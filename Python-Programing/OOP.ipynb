{
 "cells": [
  {
   "cell_type": "markdown",
   "id": "b1a5003a",
   "metadata": {},
   "source": [
    "# Object Oriented Programing"
   ]
  },
  {
   "cell_type": "code",
   "execution_count": 27,
   "id": "4689d395",
   "metadata": {},
   "outputs": [],
   "source": [
    "class Person():\n",
    "    name = 'John' # class attributes\n",
    "    age = 25 # class attributes\n",
    "    \n",
    "    def walk():\n",
    "        print('The person is walking')\n",
    "        \n",
    "    def jump():\n",
    "        print('The person is jumping')\n",
    "    \n",
    "    def drive():\n",
    "        print('Person is driving')"
   ]
  },
  {
   "cell_type": "code",
   "execution_count": 16,
   "id": "746e53c7",
   "metadata": {},
   "outputs": [
    {
     "name": "stdout",
     "output_type": "stream",
     "text": [
      "<class '__main__.Person'>\n",
      "<__main__.Person object at 0x0000015462601B20>\n"
     ]
    }
   ],
   "source": [
    "person1 = Person()\n",
    "print(type(person1))\n",
    "print(person1)"
   ]
  },
  {
   "cell_type": "code",
   "execution_count": 42,
   "id": "4590f015",
   "metadata": {},
   "outputs": [],
   "source": [
    "class Person():\n",
    "    def __init__(self, name, age): # constructor method\n",
    "        self.name = name # object attriburtes\n",
    "        self.age = age # object attriburtes\n",
    "    \n",
    "    def walk(self): # object methods\n",
    "        print('The person is walking')"
   ]
  },
  {
   "cell_type": "code",
   "execution_count": 43,
   "id": "b914ec4a",
   "metadata": {},
   "outputs": [],
   "source": [
    "p1 = Person('David', 30)"
   ]
  },
  {
   "cell_type": "code",
   "execution_count": 37,
   "id": "20484477",
   "metadata": {},
   "outputs": [
    {
     "name": "stdout",
     "output_type": "stream",
     "text": [
      "David\n",
      "The person is walking\n"
     ]
    }
   ],
   "source": [
    "print(p1.name)\n",
    "p1.walk()"
   ]
  },
  {
   "cell_type": "markdown",
   "id": "e4417db0",
   "metadata": {},
   "source": [
    "### Encapsulation"
   ]
  },
  {
   "cell_type": "code",
   "execution_count": 50,
   "id": "feb8ed48",
   "metadata": {},
   "outputs": [],
   "source": [
    "class Person():\n",
    "    def __init__(self, name, age): # constructor method\n",
    "        self.name = name # object attriburtes\n",
    "        self._age = age # private attribute\n",
    "    \n",
    "    def walk(self): # class method\n",
    "        print('The person is walking')"
   ]
  },
  {
   "cell_type": "code",
   "execution_count": 51,
   "id": "535a6517",
   "metadata": {},
   "outputs": [],
   "source": [
    "p1 = Person('Kamran', 30)"
   ]
  },
  {
   "cell_type": "code",
   "execution_count": 52,
   "id": "cc77a35d",
   "metadata": {},
   "outputs": [
    {
     "ename": "AttributeError",
     "evalue": "'Person' object has no attribute 'age'",
     "output_type": "error",
     "traceback": [
      "\u001b[1;31m---------------------------------------------------------------------------\u001b[0m",
      "\u001b[1;31mAttributeError\u001b[0m                            Traceback (most recent call last)",
      "\u001b[1;32m~\\AppData\\Local\\Temp/ipykernel_8788/1928080736.py\u001b[0m in \u001b[0;36m<module>\u001b[1;34m\u001b[0m\n\u001b[1;32m----> 1\u001b[1;33m \u001b[0mprint\u001b[0m\u001b[1;33m(\u001b[0m\u001b[0mp1\u001b[0m\u001b[1;33m.\u001b[0m\u001b[0mage\u001b[0m\u001b[1;33m)\u001b[0m\u001b[1;33m\u001b[0m\u001b[1;33m\u001b[0m\u001b[0m\n\u001b[0m",
      "\u001b[1;31mAttributeError\u001b[0m: 'Person' object has no attribute 'age'"
     ]
    }
   ],
   "source": [
    "print(p1.age)"
   ]
  },
  {
   "cell_type": "markdown",
   "id": "00c351d7",
   "metadata": {},
   "source": [
    "### Abstraction"
   ]
  },
  {
   "cell_type": "code",
   "execution_count": 53,
   "id": "e8675d5a",
   "metadata": {},
   "outputs": [
    {
     "name": "stdout",
     "output_type": "stream",
     "text": [
      "The person is walking\n"
     ]
    }
   ],
   "source": [
    "p1.walk() # we dont know the implementation"
   ]
  },
  {
   "cell_type": "markdown",
   "id": "5c2e8ec5",
   "metadata": {},
   "source": [
    "### Inheritance"
   ]
  },
  {
   "cell_type": "code",
   "execution_count": 86,
   "id": "02d84771",
   "metadata": {},
   "outputs": [],
   "source": [
    "class Person():\n",
    "    def __init__(self, name, age, gender):\n",
    "        self.name = name\n",
    "        self.age = age\n",
    "        self.gender = gender\n",
    "\n",
    "class Student(Person):\n",
    "    roll_no = 1231\n",
    "    def register_course(self):\n",
    "        print('Computer Science course is registered')"
   ]
  },
  {
   "cell_type": "code",
   "execution_count": 87,
   "id": "e51d69a1",
   "metadata": {},
   "outputs": [],
   "source": [
    "student1 = Student('Kamran', 30, 'male')"
   ]
  },
  {
   "cell_type": "code",
   "execution_count": 88,
   "id": "b1777f23",
   "metadata": {},
   "outputs": [
    {
     "name": "stdout",
     "output_type": "stream",
     "text": [
      "30\n",
      "Kamran\n",
      "1231\n"
     ]
    }
   ],
   "source": [
    "print(student1.age)\n",
    "print(student1.name)\n",
    "print(student1.roll_no)"
   ]
  },
  {
   "cell_type": "markdown",
   "id": "cc90711c",
   "metadata": {},
   "source": [
    "### Polymorphoism"
   ]
  },
  {
   "cell_type": "code",
   "execution_count": 93,
   "id": "a959e42f",
   "metadata": {},
   "outputs": [],
   "source": [
    "class Teacher():\n",
    "    def register_course(self):\n",
    "        print('Computer Science course is taught by teacher')\n",
    "\n",
    "class Student():\n",
    "    def register_course(self):\n",
    "        print('Computer Science course is registered')"
   ]
  },
  {
   "cell_type": "code",
   "execution_count": 96,
   "id": "1214019d",
   "metadata": {},
   "outputs": [
    {
     "name": "stdout",
     "output_type": "stream",
     "text": [
      "Computer Science course is taught by teacher\n",
      "Computer Science course is registered\n"
     ]
    }
   ],
   "source": [
    "teacher1 = Teacher()\n",
    "student1 = Student()\n",
    "\n",
    "teacher1.register_course()\n",
    "student1.register_course()"
   ]
  }
 ],
 "metadata": {
  "kernelspec": {
   "display_name": "Python 3 (ipykernel)",
   "language": "python",
   "name": "python3"
  },
  "language_info": {
   "codemirror_mode": {
    "name": "ipython",
    "version": 3
   },
   "file_extension": ".py",
   "mimetype": "text/x-python",
   "name": "python",
   "nbconvert_exporter": "python",
   "pygments_lexer": "ipython3",
   "version": "3.9.7"
  }
 },
 "nbformat": 4,
 "nbformat_minor": 5
}
