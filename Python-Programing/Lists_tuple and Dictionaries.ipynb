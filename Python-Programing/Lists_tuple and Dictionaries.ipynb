{
 "cells": [
  {
   "cell_type": "markdown",
   "id": "de98a1e0",
   "metadata": {},
   "source": [
    "# String\n"
   ]
  },
  {
   "cell_type": "code",
   "execution_count": 23,
   "id": "c798917b",
   "metadata": {},
   "outputs": [
    {
     "name": "stdout",
     "output_type": "stream",
     "text": [
      "K\n"
     ]
    }
   ],
   "source": [
    "name = 'Kamran'\n",
    "print(name[0])"
   ]
  },
  {
   "cell_type": "markdown",
   "id": "8387afea",
   "metadata": {},
   "source": [
    "# List\n"
   ]
  },
  {
   "cell_type": "code",
   "execution_count": 13,
   "id": "1e886c3a",
   "metadata": {},
   "outputs": [
    {
     "name": "stdout",
     "output_type": "stream",
     "text": [
      "['apple', 'banana', 'cherry', 'mango', 'orange', 'almod', 'melon']\n"
     ]
    }
   ],
   "source": [
    "fruits = ['apple', 'banana', 'cherry', 'mango', 'orange', 'almod', 'melon']\n",
    "print(fruits)"
   ]
  },
  {
   "cell_type": "code",
   "execution_count": 14,
   "id": "2cac954b",
   "metadata": {},
   "outputs": [
    {
     "data": {
      "text/plain": [
       "'banana'"
      ]
     },
     "execution_count": 14,
     "metadata": {},
     "output_type": "execute_result"
    }
   ],
   "source": [
    "# indexing\n",
    "fruits[1]"
   ]
  },
  {
   "cell_type": "code",
   "execution_count": 15,
   "id": "da93bf41",
   "metadata": {},
   "outputs": [
    {
     "data": {
      "text/plain": [
       "'melon'"
      ]
     },
     "execution_count": 15,
     "metadata": {},
     "output_type": "execute_result"
    }
   ],
   "source": [
    "# negative indexing \n",
    "fruits[-1]"
   ]
  },
  {
   "cell_type": "code",
   "execution_count": 16,
   "id": "57701e10",
   "metadata": {},
   "outputs": [
    {
     "data": {
      "text/plain": [
       "['cherry', 'mango', 'orange']"
      ]
     },
     "execution_count": 16,
     "metadata": {},
     "output_type": "execute_result"
    }
   ],
   "source": [
    "# slicing [start(default = 0) : end : step (default = 1)]\n",
    "fruits[2: 5]"
   ]
  },
  {
   "cell_type": "code",
   "execution_count": 17,
   "id": "2460c60d",
   "metadata": {},
   "outputs": [
    {
     "data": {
      "text/plain": [
       "['apple', 'banana', 'cherry', 'mango']"
      ]
     },
     "execution_count": 17,
     "metadata": {},
     "output_type": "execute_result"
    }
   ],
   "source": [
    "fruits[:4] "
   ]
  },
  {
   "cell_type": "code",
   "execution_count": 18,
   "id": "825e862f",
   "metadata": {},
   "outputs": [
    {
     "data": {
      "text/plain": [
       "['cherry', 'mango', 'orange', 'almod', 'melon']"
      ]
     },
     "execution_count": 18,
     "metadata": {},
     "output_type": "execute_result"
    }
   ],
   "source": [
    "fruits[2:]"
   ]
  },
  {
   "cell_type": "code",
   "execution_count": 19,
   "id": "ed0304e5",
   "metadata": {},
   "outputs": [
    {
     "data": {
      "text/plain": [
       "['apple', 'cherry', 'orange', 'melon']"
      ]
     },
     "execution_count": 19,
     "metadata": {},
     "output_type": "execute_result"
    }
   ],
   "source": [
    "fruits[0:7:2]"
   ]
  },
  {
   "cell_type": "code",
   "execution_count": 22,
   "id": "f867d6d5",
   "metadata": {},
   "outputs": [
    {
     "data": {
      "text/plain": [
       "['cherry', 'mango', 'orange']"
      ]
     },
     "execution_count": 22,
     "metadata": {},
     "output_type": "execute_result"
    }
   ],
   "source": [
    "fruits[-5: -2]"
   ]
  },
  {
   "cell_type": "markdown",
   "id": "db54ff88",
   "metadata": {},
   "source": [
    "# Updating List\n"
   ]
  },
  {
   "cell_type": "code",
   "execution_count": 24,
   "id": "72856cc6",
   "metadata": {},
   "outputs": [
    {
     "name": "stdout",
     "output_type": "stream",
     "text": [
      "['apple', 'banana', 'Watermelon', 'mango', 'orange', 'almod', 'melon']\n"
     ]
    }
   ],
   "source": [
    "fruits[2] = 'Watermelon'\n",
    "print(fruits)"
   ]
  },
  {
   "cell_type": "code",
   "execution_count": 25,
   "id": "d29fb347",
   "metadata": {},
   "outputs": [
    {
     "name": "stdout",
     "output_type": "stream",
     "text": [
      "['apple', 'banana', 'cherry', 'stawberry', 'Guava', 'almod', 'melon']\n"
     ]
    }
   ],
   "source": [
    "fruits[2: 5] = ['cherry', 'stawberry', 'Guava']\n",
    "print(fruits)"
   ]
  },
  {
   "cell_type": "code",
   "execution_count": 27,
   "id": "f4668612",
   "metadata": {},
   "outputs": [
    {
     "name": "stdout",
     "output_type": "stream",
     "text": [
      "['apple', 'banana', 'cherry', 'stawberry', 'Guava', 'almod', 'melon']\n"
     ]
    }
   ],
   "source": [
    "print(fruits)"
   ]
  },
  {
   "cell_type": "code",
   "execution_count": 30,
   "id": "a0eca526",
   "metadata": {},
   "outputs": [
    {
     "name": "stdout",
     "output_type": "stream",
     "text": [
      "['apple', 'grapes', 'banana', 'cherry', 'stawberry', 'Guava', 'almod', 'melon']\n"
     ]
    }
   ],
   "source": [
    "# insert() \n",
    "fruits.insert(1, 'grapes')\n",
    "print(fruits)"
   ]
  },
  {
   "cell_type": "code",
   "execution_count": 32,
   "id": "e4c6195e",
   "metadata": {},
   "outputs": [
    {
     "name": "stdout",
     "output_type": "stream",
     "text": [
      "['apple', 'grapes', 'banana', 'cherry', 'stawberry', 'Guava', 'almod', 'melon', 'lemon']\n"
     ]
    }
   ],
   "source": [
    "# appened() \n",
    "fruits.append('lemon')\n",
    "print(fruits)"
   ]
  },
  {
   "cell_type": "code",
   "execution_count": 35,
   "id": "de84cd3d",
   "metadata": {},
   "outputs": [
    {
     "name": "stdout",
     "output_type": "stream",
     "text": [
      "['Mobile', 'telephone', 'airbods', 'shirts', 'hoddies', 'jeans']\n"
     ]
    }
   ],
   "source": [
    "# extend()\n",
    "\n",
    "product1 = ['Mobile', 'telephone', 'airbods']\n",
    "product2 = ['shirts', 'hoddies', 'jeans']\n",
    "\n",
    "product1.extend(product2)\n",
    "print(product1)"
   ]
  },
  {
   "cell_type": "code",
   "execution_count": 36,
   "id": "3557ee05",
   "metadata": {},
   "outputs": [
    {
     "name": "stdout",
     "output_type": "stream",
     "text": [
      "['apple', 'grapes', 'banana', 'cherry', 'stawberry', 'Guava', 'almod', 'lemon']\n"
     ]
    }
   ],
   "source": [
    "fruits.remove('melon')\n",
    "print(fruits)"
   ]
  },
  {
   "cell_type": "code",
   "execution_count": 37,
   "id": "931c0459",
   "metadata": {},
   "outputs": [
    {
     "name": "stdout",
     "output_type": "stream",
     "text": [
      "['apple', 'grapes', 'cherry', 'stawberry', 'Guava', 'almod', 'lemon']\n",
      "Removed item:  banana\n"
     ]
    }
   ],
   "source": [
    "x = fruits.pop(2)\n",
    "print(fruits)\n",
    "print(\"Removed item: \", x)"
   ]
  },
  {
   "cell_type": "code",
   "execution_count": 52,
   "id": "abb68963",
   "metadata": {},
   "outputs": [],
   "source": [
    "fruits = ['guava', 'Strawbery', 'almod', 'apple', 'grapes']"
   ]
  },
  {
   "cell_type": "code",
   "execution_count": 53,
   "id": "1ac3c42f",
   "metadata": {},
   "outputs": [
    {
     "name": "stdout",
     "output_type": "stream",
     "text": [
      "['Strawbery', 'almod', 'apple', 'grapes', 'guava']\n"
     ]
    }
   ],
   "source": [
    "# sorting \n",
    "fruits.sort()\n",
    "print(fruits)"
   ]
  },
  {
   "cell_type": "code",
   "execution_count": 57,
   "id": "18c1b49a",
   "metadata": {},
   "outputs": [
    {
     "name": "stdout",
     "output_type": "stream",
     "text": [
      "['guava', 'grapes', 'apple', 'almod', 'Strawbery']\n"
     ]
    }
   ],
   "source": [
    "# sorting \n",
    "fruits.sort(reverse=True)\n",
    "print(fruits)"
   ]
  },
  {
   "cell_type": "code",
   "execution_count": 59,
   "id": "b7e95d63",
   "metadata": {},
   "outputs": [],
   "source": [
    "original = fruits\n",
    "fruits.append('melon')"
   ]
  },
  {
   "cell_type": "code",
   "execution_count": 63,
   "id": "586caec7",
   "metadata": {},
   "outputs": [
    {
     "name": "stdout",
     "output_type": "stream",
     "text": [
      "['guava', 'grapes', 'apple', 'almod', 'Strawbery', 'melon']\n",
      "['guava', 'grapes', 'apple', 'almod', 'Strawbery', 'melon']\n"
     ]
    }
   ],
   "source": [
    "print(fruits)\n",
    "print(original)"
   ]
  },
  {
   "cell_type": "code",
   "execution_count": 66,
   "id": "9c514881",
   "metadata": {},
   "outputs": [
    {
     "name": "stdout",
     "output_type": "stream",
     "text": [
      "['guava', 'grapes', 'apple', 'almod', 'Strawbery', 'melon', 'cherry', 'cherry']\n",
      "['guava', 'grapes', 'apple', 'almod', 'Strawbery', 'melon', 'cherry']\n"
     ]
    }
   ],
   "source": [
    "original2 = fruits.copy()\n",
    "fruits.append('cherry')\n",
    "print(fruits)\n",
    "print(original2)"
   ]
  },
  {
   "cell_type": "markdown",
   "id": "1dc78c68",
   "metadata": {},
   "source": [
    "* ### Advance Lists (2D Lists, 3D Lists)"
   ]
  },
  {
   "cell_type": "code",
   "execution_count": 41,
   "id": "30dd8233",
   "metadata": {},
   "outputs": [
    {
     "name": "stdout",
     "output_type": "stream",
     "text": [
      "[['apple', 'banana', 'cherry'], ['Brinjal', 'Potato', 'Radish']]\n"
     ]
    }
   ],
   "source": [
    "fruits_veg = [['apple', 'banana', 'cherry'], ['Brinjal', 'Potato', 'Radish']]\n",
    "print(fruits_veg)"
   ]
  },
  {
   "cell_type": "code",
   "execution_count": 42,
   "id": "dec45b30",
   "metadata": {},
   "outputs": [
    {
     "name": "stdout",
     "output_type": "stream",
     "text": [
      "Potato\n",
      "cherry\n"
     ]
    }
   ],
   "source": [
    "# indexing\n",
    "print(fruits_veg[1][1])\n",
    "print(fruits_veg[0][2])"
   ]
  },
  {
   "cell_type": "code",
   "execution_count": 44,
   "id": "aa9eaef7",
   "metadata": {},
   "outputs": [
    {
     "name": "stdout",
     "output_type": "stream",
     "text": [
      "Potato apple\n"
     ]
    }
   ],
   "source": [
    "print(fruits_veg[1][1],fruits_veg[0][0])"
   ]
  },
  {
   "cell_type": "code",
   "execution_count": 14,
   "id": "e64f18c6",
   "metadata": {},
   "outputs": [
    {
     "name": "stdout",
     "output_type": "stream",
     "text": [
      "['Potato', 'Radish']\n"
     ]
    }
   ],
   "source": [
    "print(fruits_veg[1][1:3])"
   ]
  },
  {
   "cell_type": "code",
   "execution_count": 15,
   "id": "4b3f79af",
   "metadata": {},
   "outputs": [
    {
     "name": "stdout",
     "output_type": "stream",
     "text": [
      "Radish\n"
     ]
    }
   ],
   "source": [
    "print(fruits_veg[-1][-1])"
   ]
  },
  {
   "cell_type": "code",
   "execution_count": 33,
   "id": "d417db74",
   "metadata": {},
   "outputs": [],
   "source": [
    "fruits_veg = [[['apple', 'banana', 'cherry']],\n",
    "               [['Brinjal', 'Potato', 'Radish']]]"
   ]
  },
  {
   "cell_type": "code",
   "execution_count": 36,
   "id": "39ab4dbd",
   "metadata": {},
   "outputs": [
    {
     "name": "stdout",
     "output_type": "stream",
     "text": [
      "[['apple', 'banana', 'cherry']]\n",
      "Radish\n"
     ]
    }
   ],
   "source": [
    "print(fruits_veg[0])\n",
    "print(fruits_veg[1][0][2])"
   ]
  },
  {
   "cell_type": "markdown",
   "id": "5b6aefa1",
   "metadata": {},
   "source": [
    "# Tuples"
   ]
  },
  {
   "cell_type": "code",
   "execution_count": 70,
   "id": "cae1d084",
   "metadata": {},
   "outputs": [
    {
     "name": "stdout",
     "output_type": "stream",
     "text": [
      "('Potato', 'Spinish', 'Carrot', 'Onion', 'Garlic', 'Cabbage')\n"
     ]
    }
   ],
   "source": [
    "vegetables = ('Potato', 'Spinish', 'Carrot', 'Onion', 'Garlic', 'Cabbage')\n",
    "print(vegetables)"
   ]
  },
  {
   "cell_type": "code",
   "execution_count": 71,
   "id": "ee2347a7",
   "metadata": {},
   "outputs": [
    {
     "data": {
      "text/plain": [
       "'Carrot'"
      ]
     },
     "execution_count": 71,
     "metadata": {},
     "output_type": "execute_result"
    }
   ],
   "source": [
    "vegetables[2]"
   ]
  },
  {
   "cell_type": "code",
   "execution_count": 72,
   "id": "cadd0638",
   "metadata": {},
   "outputs": [
    {
     "data": {
      "text/plain": [
       "'Cabbage'"
      ]
     },
     "execution_count": 72,
     "metadata": {},
     "output_type": "execute_result"
    }
   ],
   "source": [
    "vegetables[-1]"
   ]
  },
  {
   "cell_type": "code",
   "execution_count": 73,
   "id": "9519be24",
   "metadata": {},
   "outputs": [
    {
     "data": {
      "text/plain": [
       "('Carrot', 'Onion', 'Garlic')"
      ]
     },
     "execution_count": 73,
     "metadata": {},
     "output_type": "execute_result"
    }
   ],
   "source": [
    "vegetables[2:5]"
   ]
  },
  {
   "cell_type": "code",
   "execution_count": 74,
   "id": "880c0e1a",
   "metadata": {},
   "outputs": [
    {
     "data": {
      "text/plain": [
       "('Spinish', 'Carrot', 'Onion')"
      ]
     },
     "execution_count": 74,
     "metadata": {},
     "output_type": "execute_result"
    }
   ],
   "source": [
    "vegetables[-5:-2]"
   ]
  },
  {
   "cell_type": "code",
   "execution_count": 77,
   "id": "a81aef12",
   "metadata": {},
   "outputs": [
    {
     "ename": "TypeError",
     "evalue": "'tuple' object does not support item assignment",
     "output_type": "error",
     "traceback": [
      "\u001b[1;31m---------------------------------------------------------------------------\u001b[0m",
      "\u001b[1;31mTypeError\u001b[0m                                 Traceback (most recent call last)",
      "\u001b[1;32m~\\AppData\\Local\\Temp/ipykernel_3288/2392829472.py\u001b[0m in \u001b[0;36m<module>\u001b[1;34m\u001b[0m\n\u001b[1;32m----> 1\u001b[1;33m \u001b[0mvegetables\u001b[0m\u001b[1;33m[\u001b[0m\u001b[1;36m1\u001b[0m\u001b[1;33m]\u001b[0m \u001b[1;33m=\u001b[0m \u001b[1;34m'Radish'\u001b[0m\u001b[1;33m\u001b[0m\u001b[1;33m\u001b[0m\u001b[0m\n\u001b[0m",
      "\u001b[1;31mTypeError\u001b[0m: 'tuple' object does not support item assignment"
     ]
    }
   ],
   "source": [
    "vegetables[1] = 'Radish'"
   ]
  },
  {
   "cell_type": "code",
   "execution_count": 82,
   "id": "3ea4590f",
   "metadata": {},
   "outputs": [
    {
     "name": "stdout",
     "output_type": "stream",
     "text": [
      "('Potato', 'Radish', 'Cucumber', 'Onion', 'Garlic', 'Cabbage', 'Turnip')\n"
     ]
    }
   ],
   "source": [
    "veg_list = list(vegetables) \n",
    "veg_list[1] = 'Radish' \n",
    "veg_list.append('Turnip') \n",
    "veg_list[2] = 'Cucumber' \n",
    "vegetables = tuple(veg_list)\n",
    "print(vegetables)"
   ]
  },
  {
   "cell_type": "code",
   "execution_count": 38,
   "id": "d75ec73b",
   "metadata": {},
   "outputs": [
    {
     "name": "stdout",
     "output_type": "stream",
     "text": [
      "(('apple', 'banana', 'cherry'), ('Brinjal', ' Potato', 'Radish'))\n"
     ]
    }
   ],
   "source": [
    "fruits_veg = (('apple', 'banana', 'cherry'), ('Brinjal', ' Potato', 'Radish'))\n",
    "print(fruits_veg)"
   ]
  },
  {
   "cell_type": "code",
   "execution_count": 39,
   "id": "0eec5a00",
   "metadata": {},
   "outputs": [
    {
     "name": "stdout",
     "output_type": "stream",
     "text": [
      " Potato\n",
      "cherry\n"
     ]
    }
   ],
   "source": [
    "# indexing\n",
    "print(fruits_veg[1][1])\n",
    "print(fruits_veg[0][2])"
   ]
  },
  {
   "cell_type": "code",
   "execution_count": null,
   "id": "8dfde482",
   "metadata": {},
   "outputs": [],
   "source": []
  },
  {
   "cell_type": "code",
   "execution_count": null,
   "id": "7b7f8336",
   "metadata": {},
   "outputs": [],
   "source": []
  },
  {
   "cell_type": "code",
   "execution_count": null,
   "id": "8767488f",
   "metadata": {},
   "outputs": [],
   "source": []
  },
  {
   "cell_type": "markdown",
   "id": "374cac49",
   "metadata": {},
   "source": [
    "# Dictionaries"
   ]
  },
  {
   "cell_type": "code",
   "execution_count": 83,
   "id": "7a23c794",
   "metadata": {},
   "outputs": [
    {
     "name": "stdout",
     "output_type": "stream",
     "text": [
      "{'A': 'apple', 'B': 'banana', 'C': 'cherry', 'D': 'Dragon fruits'}\n"
     ]
    }
   ],
   "source": [
    "fruits_dict = {'A': 'apple', 'B': 'banana', \n",
    "               'C': 'cherry', 'D': 'Dragon fruits'}\n",
    "print(fruits_dict)"
   ]
  },
  {
   "cell_type": "code",
   "execution_count": 84,
   "id": "ddc0f8f8",
   "metadata": {},
   "outputs": [
    {
     "data": {
      "text/plain": [
       "'cherry'"
      ]
     },
     "execution_count": 84,
     "metadata": {},
     "output_type": "execute_result"
    }
   ],
   "source": [
    "fruits_dict['C']"
   ]
  },
  {
   "cell_type": "code",
   "execution_count": 88,
   "id": "efebd495",
   "metadata": {},
   "outputs": [
    {
     "name": "stdout",
     "output_type": "stream",
     "text": [
      "{'A': ['Almod', 'Apple'], 'B': 'banana', 'C': 'cherry', 'D': 'Dragon fruits'}\n"
     ]
    }
   ],
   "source": [
    "fruits_dict['A'] = ['Almod', 'Apple']\n",
    "print(fruits_dict)"
   ]
  },
  {
   "cell_type": "code",
   "execution_count": 72,
   "id": "8bfeba1e",
   "metadata": {},
   "outputs": [],
   "source": [
    "students = {'Roll no': [101, 102, 103], 'Name': ['Ali', 'Ahmad', 'Amir']}"
   ]
  },
  {
   "cell_type": "code",
   "execution_count": 48,
   "id": "af9198a5",
   "metadata": {},
   "outputs": [
    {
     "name": "stdout",
     "output_type": "stream",
     "text": [
      "Ahmad\n"
     ]
    }
   ],
   "source": [
    "print(students['Name'][1])"
   ]
  },
  {
   "cell_type": "code",
   "execution_count": 47,
   "id": "526cd1bc",
   "metadata": {},
   "outputs": [
    {
     "name": "stdout",
     "output_type": "stream",
     "text": [
      "['Ali', 'Ahmad', 'Amir']\n"
     ]
    }
   ],
   "source": [
    "print(students['Name'][:])"
   ]
  },
  {
   "cell_type": "code",
   "execution_count": 51,
   "id": "92bc1fe6",
   "metadata": {},
   "outputs": [
    {
     "name": "stdout",
     "output_type": "stream",
     "text": [
      "{'apple': 0, 'banana': 0, 'cherry': 0}\n"
     ]
    }
   ],
   "source": [
    "sequence = ('apple', 'banana', 'cherry')\n",
    "new_dict = dict.fromkeys(sequence, 0)\n",
    "print(new_dict)"
   ]
  },
  {
   "cell_type": "code",
   "execution_count": 54,
   "id": "8f8b7842",
   "metadata": {},
   "outputs": [
    {
     "data": {
      "text/plain": [
       "[101, 102, 103]"
      ]
     },
     "execution_count": 54,
     "metadata": {},
     "output_type": "execute_result"
    }
   ],
   "source": [
    "students.get('Roll no')"
   ]
  },
  {
   "cell_type": "code",
   "execution_count": 66,
   "id": "6c55b8e5",
   "metadata": {},
   "outputs": [
    {
     "data": {
      "text/plain": [
       "dict_items([('Roll no', [101, 102, 103]), ('Name', ['Ali', 'Ahmad', 'Amir'])])"
      ]
     },
     "execution_count": 66,
     "metadata": {},
     "output_type": "execute_result"
    }
   ],
   "source": [
    "students.items()"
   ]
  },
  {
   "cell_type": "code",
   "execution_count": 67,
   "id": "cb0d5353",
   "metadata": {},
   "outputs": [
    {
     "data": {
      "text/plain": [
       "dict_keys(['Roll no', 'Name'])"
      ]
     },
     "execution_count": 67,
     "metadata": {},
     "output_type": "execute_result"
    }
   ],
   "source": [
    "students.keys()"
   ]
  },
  {
   "cell_type": "code",
   "execution_count": 73,
   "id": "34fefcb1",
   "metadata": {},
   "outputs": [
    {
     "data": {
      "text/plain": [
       "['Ali', 'Ahmad', 'Amir']"
      ]
     },
     "execution_count": 73,
     "metadata": {},
     "output_type": "execute_result"
    }
   ],
   "source": [
    "students.pop('Name')"
   ]
  },
  {
   "cell_type": "code",
   "execution_count": 69,
   "id": "b03fb1a5",
   "metadata": {},
   "outputs": [
    {
     "data": {
      "text/plain": [
       "('Roll no', [101, 102, 103])"
      ]
     },
     "execution_count": 69,
     "metadata": {},
     "output_type": "execute_result"
    }
   ],
   "source": [
    "students.popitem()"
   ]
  },
  {
   "cell_type": "code",
   "execution_count": null,
   "id": "9e999434",
   "metadata": {},
   "outputs": [],
   "source": []
  },
  {
   "cell_type": "markdown",
   "id": "d8b155f3",
   "metadata": {},
   "source": [
    "### Sets"
   ]
  },
  {
   "cell_type": "code",
   "execution_count": 5,
   "id": "ae3984c7",
   "metadata": {},
   "outputs": [
    {
     "name": "stdout",
     "output_type": "stream",
     "text": [
      "{'orange', 'banana', 'apple', 'cherry', 'watermelon', 'melon'}\n"
     ]
    }
   ],
   "source": [
    "fruits = {'apple', 'banana', 'cherry', 'orange', 'melon', 'watermelon'}\n",
    "print(fruits)"
   ]
  },
  {
   "cell_type": "code",
   "execution_count": 8,
   "id": "8240a31c",
   "metadata": {},
   "outputs": [
    {
     "ename": "TypeError",
     "evalue": "'set' object is not subscriptable",
     "output_type": "error",
     "traceback": [
      "\u001b[1;31m---------------------------------------------------------------------------\u001b[0m",
      "\u001b[1;31mTypeError\u001b[0m                                 Traceback (most recent call last)",
      "\u001b[1;32m~\\AppData\\Local\\Temp/ipykernel_2172/2478051916.py\u001b[0m in \u001b[0;36m<module>\u001b[1;34m\u001b[0m\n\u001b[1;32m----> 1\u001b[1;33m \u001b[0mfruits\u001b[0m\u001b[1;33m[\u001b[0m\u001b[1;36m0\u001b[0m\u001b[1;33m]\u001b[0m\u001b[1;33m\u001b[0m\u001b[1;33m\u001b[0m\u001b[0m\n\u001b[0m",
      "\u001b[1;31mTypeError\u001b[0m: 'set' object is not subscriptable"
     ]
    }
   ],
   "source": [
    "fruits[0]"
   ]
  },
  {
   "cell_type": "markdown",
   "id": "9ab4a991",
   "metadata": {},
   "source": [
    "# Advance Topic"
   ]
  },
  {
   "cell_type": "code",
   "execution_count": 91,
   "id": "d3f29192",
   "metadata": {},
   "outputs": [
    {
     "name": "stdout",
     "output_type": "stream",
     "text": [
      "0\n",
      "2\n",
      "4\n",
      "6\n",
      "8\n",
      "10\n",
      "12\n",
      "14\n",
      "16\n",
      "18\n"
     ]
    }
   ],
   "source": [
    "for i in range(20):\n",
    "    if i%2 == 0:\n",
    "        print(i)"
   ]
  },
  {
   "cell_type": "code",
   "execution_count": 94,
   "id": "e43144f6",
   "metadata": {},
   "outputs": [
    {
     "name": "stdout",
     "output_type": "stream",
     "text": [
      "[0, 2, 4, 6, 8, 10, 12, 14, 16, 18]\n"
     ]
    }
   ],
   "source": [
    "# for i in range(20):\n",
    "#     if i%2 == 0:\n",
    "#         print(i)\n",
    "        \n",
    "x = [i for i in range(20) if i % 2 == 0]\n",
    "print(x)"
   ]
  },
  {
   "cell_type": "code",
   "execution_count": null,
   "id": "2d6f239e",
   "metadata": {},
   "outputs": [],
   "source": []
  }
 ],
 "metadata": {
  "kernelspec": {
   "display_name": "Python 3 (ipykernel)",
   "language": "python",
   "name": "python3"
  },
  "language_info": {
   "codemirror_mode": {
    "name": "ipython",
    "version": 3
   },
   "file_extension": ".py",
   "mimetype": "text/x-python",
   "name": "python",
   "nbconvert_exporter": "python",
   "pygments_lexer": "ipython3",
   "version": "3.9.7"
  }
 },
 "nbformat": 4,
 "nbformat_minor": 5
}
